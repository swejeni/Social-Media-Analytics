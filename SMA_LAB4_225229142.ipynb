{
 "cells": [
  {
   "cell_type": "markdown",
   "metadata": {
    "id": "2MGJ_8vuKkpZ"
   },
   "source": [
    "SMA Lab 4:Retrieving the user’s LinkedIn Profile and analyzing the profile’s **connections**"
   ]
  },
  {
   "cell_type": "markdown",
   "metadata": {
    "id": "w8q3FFrTKWn6"
   },
   "source": [
    "SWETHA JENIFER S\n",
    "225229142"
   ]
  },
  {
   "cell_type": "code",
   "execution_count": 6,
   "metadata": {
    "id": "UcWOzfp_HY-z"
   },
   "outputs": [],
   "source": [
    "import pandas as pd\n",
    "df = pd.read_csv('Connections.csv')"
   ]
  },
  {
   "cell_type": "code",
   "execution_count": 8,
   "metadata": {},
   "outputs": [
    {
     "data": {
      "text/html": [
       "<div>\n",
       "<style scoped>\n",
       "    .dataframe tbody tr th:only-of-type {\n",
       "        vertical-align: middle;\n",
       "    }\n",
       "\n",
       "    .dataframe tbody tr th {\n",
       "        vertical-align: top;\n",
       "    }\n",
       "\n",
       "    .dataframe thead th {\n",
       "        text-align: right;\n",
       "    }\n",
       "</style>\n",
       "<table border=\"1\" class=\"dataframe\">\n",
       "  <thead>\n",
       "    <tr style=\"text-align: right;\">\n",
       "      <th></th>\n",
       "      <th>First Name</th>\n",
       "      <th>Last Name</th>\n",
       "      <th>URL</th>\n",
       "      <th>Unnamed: 3</th>\n",
       "      <th>Company</th>\n",
       "      <th>Position</th>\n",
       "      <th>Connected On</th>\n",
       "    </tr>\n",
       "  </thead>\n",
       "  <tbody>\n",
       "    <tr>\n",
       "      <th>0</th>\n",
       "      <td>Deepa</td>\n",
       "      <td>V</td>\n",
       "      <td>https://www.linkedin.com/in/deepav03081999</td>\n",
       "      <td>NaN</td>\n",
       "      <td>LTIMindtree</td>\n",
       "      <td>Software Engineer</td>\n",
       "      <td>26-Jul-23</td>\n",
       "    </tr>\n",
       "    <tr>\n",
       "      <th>1</th>\n",
       "      <td>Guru</td>\n",
       "      <td>Rathinavel M</td>\n",
       "      <td>https://www.linkedin.com/in/guru-rathinavel-m-...</td>\n",
       "      <td>NaN</td>\n",
       "      <td>Amizhth Techno Solutions</td>\n",
       "      <td>Angular intern at Amizhth techno solutions</td>\n",
       "      <td>22-Jul-23</td>\n",
       "    </tr>\n",
       "    <tr>\n",
       "      <th>2</th>\n",
       "      <td>Mohamed</td>\n",
       "      <td>Zaheerudeen M S</td>\n",
       "      <td>https://www.linkedin.com/in/mohamed-zaheerudee...</td>\n",
       "      <td>NaN</td>\n",
       "      <td>NaN</td>\n",
       "      <td>NaN</td>\n",
       "      <td>22-Jul-23</td>\n",
       "    </tr>\n",
       "    <tr>\n",
       "      <th>3</th>\n",
       "      <td>Infant Sheltus</td>\n",
       "      <td>Winston</td>\n",
       "      <td>https://www.linkedin.com/in/infant-sheltus-win...</td>\n",
       "      <td>NaN</td>\n",
       "      <td>Deloitte</td>\n",
       "      <td>Associate Analyst</td>\n",
       "      <td>22-Jul-23</td>\n",
       "    </tr>\n",
       "    <tr>\n",
       "      <th>4</th>\n",
       "      <td>Balamurugan</td>\n",
       "      <td>P</td>\n",
       "      <td>https://www.linkedin.com/in/balamurugan-p-9775...</td>\n",
       "      <td>NaN</td>\n",
       "      <td>NaN</td>\n",
       "      <td>NaN</td>\n",
       "      <td>20-Jul-23</td>\n",
       "    </tr>\n",
       "  </tbody>\n",
       "</table>\n",
       "</div>"
      ],
      "text/plain": [
       "       First Name        Last Name  \\\n",
       "0           Deepa                V   \n",
       "1            Guru     Rathinavel M   \n",
       "2         Mohamed  Zaheerudeen M S   \n",
       "3  Infant Sheltus          Winston   \n",
       "4     Balamurugan                P   \n",
       "\n",
       "                                                 URL  Unnamed: 3  \\\n",
       "0         https://www.linkedin.com/in/deepav03081999         NaN   \n",
       "1  https://www.linkedin.com/in/guru-rathinavel-m-...         NaN   \n",
       "2  https://www.linkedin.com/in/mohamed-zaheerudee...         NaN   \n",
       "3  https://www.linkedin.com/in/infant-sheltus-win...         NaN   \n",
       "4  https://www.linkedin.com/in/balamurugan-p-9775...         NaN   \n",
       "\n",
       "                    Company                                     Position  \\\n",
       "0               LTIMindtree                            Software Engineer   \n",
       "1  Amizhth Techno Solutions  Angular intern at Amizhth techno solutions    \n",
       "2                       NaN                                          NaN   \n",
       "3                  Deloitte                            Associate Analyst   \n",
       "4                       NaN                                          NaN   \n",
       "\n",
       "  Connected On  \n",
       "0    26-Jul-23  \n",
       "1    22-Jul-23  \n",
       "2    22-Jul-23  \n",
       "3    22-Jul-23  \n",
       "4    20-Jul-23  "
      ]
     },
     "execution_count": 8,
     "metadata": {},
     "output_type": "execute_result"
    }
   ],
   "source": [
    "df.head()"
   ]
  },
  {
   "cell_type": "code",
   "execution_count": 7,
   "metadata": {
    "colab": {
     "base_uri": "https://localhost:8080/"
    },
    "id": "PviUs0lvHZHb",
    "outputId": "804a20d9-b896-448c-d3cc-8523510b7f25"
   },
   "outputs": [
    {
     "name": "stdout",
     "output_type": "stream",
     "text": [
      "Basic Statistics:\n",
      "       Unnamed: 3\n",
      "count         0.0\n",
      "mean          NaN\n",
      "std           NaN\n",
      "min           NaN\n",
      "25%           NaN\n",
      "50%           NaN\n",
      "75%           NaN\n",
      "max           NaN\n",
      "Number of Connections: 70\n",
      "\n",
      "Job Titles and Frequency:\n",
      "Programmer                                       4\n",
      "Managing Director                                2\n",
      "Software Engineer                                1\n",
      "Python Developer                                 1\n",
      "Graduate Trainee                                 1\n",
      "System Administrator                             1\n",
      "HR AND ADMIN                                     1\n",
      "System Engineer                                  1\n",
      "Assistant System Engineer                        1\n",
      "Senior Recruiter                                 1\n",
      "RPA Developer at First Source                    1\n",
      "Employee                                         1\n",
      "Client Service Representative                    1\n",
      "Campus Ambassador                                1\n",
      "Assistant Accountant cum Document Controller     1\n",
      "Direct client recruiter                          1\n",
      "UI Designer                                      1\n",
      "Technology Analyst                               1\n",
      "Assistant Professor                              1\n",
      "Angular intern at Amizhth techno solutions       1\n",
      "DataScience Intern                               1\n",
      "Associate Analyst                                1\n",
      "Head of promotions and external relations        1\n",
      "Founder | Proprietor                             1\n",
      "Machine Learning Intern                          1\n",
      "Operations Executive                             1\n",
      "Associate Professor                              1\n",
      "Entitlement                                      1\n",
      "Senior Systems associate                         1\n",
      "Lead Engineer                                    1\n",
      " Senior US IT Recruiter                          1\n",
      "HR trainee                                       1\n",
      "Volunteer                                        1\n",
      "Financial Analyst Intern                         1\n",
      "Python (Django)                                  1\n",
      "Student Representative                           1\n",
      "Name: Position, dtype: int64\n",
      "\n",
      "Industries and Frequency:\n",
      "Tata Consultancy Services                           5\n",
      "Infosys                                             4\n",
      "Bishop Heber College, Tiruchirappalli - 620 017.    2\n",
      "MENMOZHI TECHNOLOGIES                               2\n",
      "Accenture                                           1\n",
      "RG-VP Web Solutions                                 1\n",
      "Eson's Power Company                                1\n",
      "Cognizant                                           1\n",
      "FutureWorks Media Limited                           1\n",
      "Chargeback Gurus, an Inc. 5000 company              1\n",
      "LTIMindtree                                         1\n",
      "HCI                                                 1\n",
      "cvDragon                                            1\n",
      "Eastern Asphalt and Mixed Concrete Company W.L.L    1\n",
      "e-Business International Inc                        1\n",
      "Zoho Corporation                                    1\n",
      "Myway Net Cafe                                      1\n",
      "Nitroware Technology                                1\n",
      "Firstsource                                         1\n",
      "Amizhth Techno Solutions                            1\n",
      "Madhu Finance Advisory (MFA)                        1\n",
      "GreenBhumi                                          1\n",
      "WiseTech Source Pvt. Ltd                            1\n",
      "Confidential                                        1\n",
      "HCL Technologies                                    1\n",
      "BNY Mellon                                          1\n",
      "SYNC INTERN'S                                       1\n",
      "Verizon                                             1\n",
      "DAKSH                                               1\n",
      "Deloitte                                            1\n",
      "Responsibility in department                        1\n",
      "Name: Company, dtype: int64\n"
     ]
    }
   ],
   "source": [
    "\n",
    "# Analyzing the dataset\n",
    "def analyze_connections_data(dataframe):\n",
    "    # Print some basic statistics\n",
    "    print(\"Basic Statistics:\")\n",
    "    print(dataframe.describe())\n",
    "\n",
    "    # Count the number of connections in the dataset\n",
    "    num_connections = len(dataframe)\n",
    "    print(f\"Number of Connections: {num_connections}\")\n",
    "\n",
    "    # Analyze job titles and their frequency\n",
    "    job_titles_counts = dataframe['Position'].value_counts()\n",
    "    print(\"\\nJob Titles and Frequency:\")\n",
    "    print(job_titles_counts)\n",
    "\n",
    "\n",
    "    # Analyze industries and their frequency\n",
    "    industries_counts = dataframe['Company'].value_counts()\n",
    "    print(\"\\nIndustries and Frequency:\")\n",
    "    print(industries_counts)\n",
    "\n",
    "# Main function\n",
    "if __name__ == '__main__':\n",
    "    # Assuming your dataset has columns like 'Name', 'Job Title', 'Location', 'Industry', etc.\n",
    "    # Replace the column names below according to your dataset if needed.\n",
    "    analyze_connections_data(df)\n"
   ]
  },
  {
   "cell_type": "markdown",
   "metadata": {
    "id": "hVAMdKLCKgNR"
   },
   "source": []
  }
 ],
 "metadata": {
  "colab": {
   "provenance": []
  },
  "kernelspec": {
   "display_name": "Python 3 (ipykernel)",
   "language": "python",
   "name": "python3"
  },
  "language_info": {
   "codemirror_mode": {
    "name": "ipython",
    "version": 3
   },
   "file_extension": ".py",
   "mimetype": "text/x-python",
   "name": "python",
   "nbconvert_exporter": "python",
   "pygments_lexer": "ipython3",
   "version": "3.9.13"
  }
 },
 "nbformat": 4,
 "nbformat_minor": 1
}
