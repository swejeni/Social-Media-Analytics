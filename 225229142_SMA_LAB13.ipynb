{
 "cells": [
  {
   "cell_type": "markdown",
   "metadata": {},
   "source": [
    "### SMA Lab 13: Databricks SQL"
   ]
  },
  {
   "cell_type": "markdown",
   "metadata": {
    "application/vnd.databricks.v1+cell": {
     "cellMetadata": {},
     "inputWidgets": {},
     "nuid": "38336880-79c0-4eaf-87f4-c979ec3d6ab2",
     "showTitle": false,
     "title": ""
    }
   },
   "source": [
    "#### SWETHA JENIFER 225229142"
   ]
  },
  {
   "cell_type": "code",
   "execution_count": 0,
   "metadata": {
    "application/vnd.databricks.v1+cell": {
     "cellMetadata": {
      "byteLimit": 2048000,
      "rowLimit": 10000
     },
     "inputWidgets": {},
     "nuid": "a1be11d4-99eb-42f8-ad42-5da667ecbba5",
     "showTitle": false,
     "title": ""
    }
   },
   "outputs": [],
   "source": [
    "from pyspark.sql import SparkSession\n",
    "from pyspark.sql.types import *\n",
    "from pyspark.sql.functions import *\n",
    "from pyspark.sql.types import Row\n",
    "from datetime import datetime"
   ]
  },
  {
   "cell_type": "code",
   "execution_count": 0,
   "metadata": {
    "application/vnd.databricks.v1+cell": {
     "cellMetadata": {
      "byteLimit": 2048000,
      "rowLimit": 10000
     },
     "inputWidgets": {},
     "nuid": "ce852069-dfb7-4d7a-9370-a3a3f1b890fa",
     "showTitle": false,
     "title": ""
    }
   },
   "outputs": [],
   "source": [
    "spark = SparkSession.builder.appName(\"Python Spark SQL basic example\").config(\"spark.some.config.option\", \"some-value\").getOrCreate()"
   ]
  },
  {
   "cell_type": "code",
   "execution_count": 0,
   "metadata": {
    "application/vnd.databricks.v1+cell": {
     "cellMetadata": {
      "byteLimit": 2048000,
      "rowLimit": 10000
     },
     "inputWidgets": {},
     "nuid": "b74835f7-0c51-47e6-905d-71e03fcdad9c",
     "showTitle": false,
     "title": ""
    }
   },
   "outputs": [],
   "source": [
    "student_records = sc.parallelize([Row(roll_no=1,name='John Doe',passed=True,marks={'Math':89,'Physics':87,'Chemistry':81},sports =['chess','football'], DoB=datetime(2012,5,1,13,1,5)), Row(roll_no=2,name='John Smith',passed=False,marks={'Math':29,'Physics':31,'Chemistry':36}, sports =['volleyball','tabletennis'], DoB=datetime(2012,5,12,14,2,5))])"
   ]
  },
  {
   "cell_type": "code",
   "execution_count": 0,
   "metadata": {
    "application/vnd.databricks.v1+cell": {
     "cellMetadata": {
      "byteLimit": 2048000,
      "rowLimit": 10000
     },
     "inputWidgets": {},
     "nuid": "27076951-0ee2-4f56-9d53-7d4b99313003",
     "showTitle": false,
     "title": ""
    }
   },
   "outputs": [
    {
     "name": "stdout",
     "output_type": "stream",
     "text": [
      "+-------+----------+------+--------------------+--------------------+-------------------+\n",
      "|roll_no|      name|passed|               marks|              sports|                DoB|\n",
      "+-------+----------+------+--------------------+--------------------+-------------------+\n",
      "|      1|  John Doe|  true|{Chemistry -> 81,...|   [chess, football]|2012-05-01 13:01:05|\n",
      "|      2|John Smith| false|{Chemistry -> 36,...|[volleyball, tabl...|2012-05-12 14:02:05|\n",
      "+-------+----------+------+--------------------+--------------------+-------------------+\n",
      "\n"
     ]
    }
   ],
   "source": [
    "student_records_df  = student_records.toDF()\n",
    "student_records_df.show()"
   ]
  },
  {
   "cell_type": "code",
   "execution_count": 0,
   "metadata": {
    "application/vnd.databricks.v1+cell": {
     "cellMetadata": {
      "byteLimit": 2048000,
      "rowLimit": 10000
     },
     "inputWidgets": {},
     "nuid": "e43747da-20aa-4a84-b04c-ca7111adf8d3",
     "showTitle": false,
     "title": ""
    }
   },
   "outputs": [
    {
     "name": "stdout",
     "output_type": "stream",
     "text": [
      "+-------+----------+------+--------------------------------------------+-------------------------+-------------------+\n",
      "|roll_no|name      |passed|marks                                       |sports                   |DoB                |\n",
      "+-------+----------+------+--------------------------------------------+-------------------------+-------------------+\n",
      "|1      |John Doe  |true  |{Chemistry -> 81, Math -> 89, Physics -> 87}|[chess, football]        |2012-05-01 13:01:05|\n",
      "|2      |John Smith|false |{Chemistry -> 36, Math -> 29, Physics -> 31}|[volleyball, tabletennis]|2012-05-12 14:02:05|\n",
      "+-------+----------+------+--------------------------------------------+-------------------------+-------------------+\n",
      "\n"
     ]
    }
   ],
   "source": [
    "student_records_df.show(truncate=False)"
   ]
  },
  {
   "cell_type": "code",
   "execution_count": 0,
   "metadata": {
    "application/vnd.databricks.v1+cell": {
     "cellMetadata": {
      "byteLimit": 2048000,
      "rowLimit": 10000
     },
     "inputWidgets": {},
     "nuid": "12fe3ef0-7f55-4f27-9a72-db20b70db6f3",
     "showTitle": false,
     "title": ""
    }
   },
   "outputs": [],
   "source": [
    "student_records_df.createOrReplaceTempView('records')"
   ]
  },
  {
   "cell_type": "code",
   "execution_count": 0,
   "metadata": {
    "application/vnd.databricks.v1+cell": {
     "cellMetadata": {
      "byteLimit": 2048000,
      "rowLimit": 10000
     },
     "inputWidgets": {},
     "nuid": "c5a77817-12dd-4e24-8c42-fc31aef75127",
     "showTitle": false,
     "title": ""
    }
   },
   "outputs": [
    {
     "name": "stdout",
     "output_type": "stream",
     "text": [
      "+-------+----------+------+--------------------+--------------------+-------------------+\n",
      "|roll_no|      name|passed|               marks|              sports|                DoB|\n",
      "+-------+----------+------+--------------------+--------------------+-------------------+\n",
      "|      1|  John Doe|  true|{Chemistry -> 81,...|   [chess, football]|2012-05-01 13:01:05|\n",
      "|      2|John Smith| false|{Chemistry -> 36,...|[volleyball, tabl...|2012-05-12 14:02:05|\n",
      "+-------+----------+------+--------------------+--------------------+-------------------+\n",
      "\n"
     ]
    }
   ],
   "source": [
    "spark.sql(\"SELECT * FROM records\").show()"
   ]
  },
  {
   "cell_type": "code",
   "execution_count": 0,
   "metadata": {
    "application/vnd.databricks.v1+cell": {
     "cellMetadata": {
      "byteLimit": 2048000,
      "rowLimit": 10000
     },
     "inputWidgets": {},
     "nuid": "7d012b8b-ddb5-4555-ad70-f9a0bb6109bf",
     "showTitle": false,
     "title": ""
    }
   },
   "outputs": [
    {
     "name": "stdout",
     "output_type": "stream",
     "text": [
      "+-------+--------------+-----------+\n",
      "|roll_no|marks[Physics]|  sports[1]|\n",
      "+-------+--------------+-----------+\n",
      "|      1|            87|   football|\n",
      "|      2|            31|tabletennis|\n",
      "+-------+--------------+-----------+\n",
      "\n"
     ]
    }
   ],
   "source": [
    "spark.sql('SELECT roll_no, marks[\"Physics\"], sports[1] FROM records').show()"
   ]
  },
  {
   "cell_type": "code",
   "execution_count": 0,
   "metadata": {
    "application/vnd.databricks.v1+cell": {
     "cellMetadata": {
      "byteLimit": 2048000,
      "rowLimit": 10000
     },
     "inputWidgets": {},
     "nuid": "0825895d-f5ff-43e0-9be5-2468958736a5",
     "showTitle": false,
     "title": ""
    }
   },
   "outputs": [
    {
     "name": "stdout",
     "output_type": "stream",
     "text": [
      "+-------+--------+------+--------------------+-----------------+-------------------+\n",
      "|roll_no|    name|passed|               marks|           sports|                DoB|\n",
      "+-------+--------+------+--------------------+-----------------+-------------------+\n",
      "|      1|John Doe|  true|{Chemistry -> 81,...|[chess, football]|2012-05-01 13:01:05|\n",
      "+-------+--------+------+--------------------+-----------------+-------------------+\n",
      "\n"
     ]
    }
   ],
   "source": [
    "spark.sql(\"SELECT * FROM records where passed = True\").show()"
   ]
  },
  {
   "cell_type": "code",
   "execution_count": 0,
   "metadata": {
    "application/vnd.databricks.v1+cell": {
     "cellMetadata": {
      "byteLimit": 2048000,
      "rowLimit": 10000
     },
     "inputWidgets": {},
     "nuid": "44db9a8e-783b-49bb-bc63-e36413b8a456",
     "showTitle": false,
     "title": ""
    }
   },
   "outputs": [
    {
     "name": "stdout",
     "output_type": "stream",
     "text": [
      "+-------+----------+------+--------------------+--------------------+-------------------+\n",
      "|roll_no|      name|passed|               marks|              sports|                DoB|\n",
      "+-------+----------+------+--------------------+--------------------+-------------------+\n",
      "|      2|John Smith| false|{Chemistry -> 36,...|[volleyball, tabl...|2012-05-12 14:02:05|\n",
      "+-------+----------+------+--------------------+--------------------+-------------------+\n",
      "\n"
     ]
    }
   ],
   "source": [
    "spark.sql('SELECT * FROM records WHERE \n",
    "          marks[\"Chemistry\"] < 40').show()"
   ]
  },
  {
   "cell_type": "code",
   "execution_count": 0,
   "metadata": {
    "application/vnd.databricks.v1+cell": {
     "cellMetadata": {
      "byteLimit": 2048000,
      "rowLimit": 10000
     },
     "inputWidgets": {},
     "nuid": "6a2cb321-d1dd-4e5b-8c2b-3a7b6939fe8c",
     "showTitle": false,
     "title": ""
    }
   },
   "outputs": [],
   "source": [
    "# Creating Global View"
   ]
  },
  {
   "cell_type": "code",
   "execution_count": 0,
   "metadata": {
    "application/vnd.databricks.v1+cell": {
     "cellMetadata": {
      "byteLimit": 2048000,
      "rowLimit": 10000
     },
     "inputWidgets": {},
     "nuid": "6ee8d4cf-0b77-4cc9-b620-d0a7643147bf",
     "showTitle": false,
     "title": ""
    }
   },
   "outputs": [],
   "source": [
    "student_records_df.createGlobalTempView('global_record')"
   ]
  },
  {
   "cell_type": "code",
   "execution_count": 0,
   "metadata": {
    "application/vnd.databricks.v1+cell": {
     "cellMetadata": {
      "byteLimit": 2048000,
      "rowLimit": 10000
     },
     "inputWidgets": {},
     "nuid": "a3d54afb-efdb-4eed-ae35-4e64a7d7405b",
     "showTitle": false,
     "title": ""
    }
   },
   "outputs": [],
   "source": [
    "spark.sql(\"SELECT * FROM global_temp.global_records\").show()"
   ]
  },
  {
   "cell_type": "code",
   "execution_count": 0,
   "metadata": {
    "application/vnd.databricks.v1+cell": {
     "cellMetadata": {
      "byteLimit": 2048000,
      "rowLimit": 10000
     },
     "inputWidgets": {},
     "nuid": "60f92bd8-ed38-42aa-b83d-8c342e35b531",
     "showTitle": false,
     "title": ""
    }
   },
   "outputs": [],
   "source": [
    "# Dropping Columns from DataFrame"
   ]
  },
  {
   "cell_type": "code",
   "execution_count": 0,
   "metadata": {
    "application/vnd.databricks.v1+cell": {
     "cellMetadata": {
      "byteLimit": 2048000,
      "rowLimit": 10000
     },
     "inputWidgets": {},
     "nuid": "f47b2704-5edb-4d0d-98da-daae853c574b",
     "showTitle": false,
     "title": ""
    }
   },
   "outputs": [
    {
     "name": "stdout",
     "output_type": "stream",
     "text": [
      "Out[19]: ['roll_no', 'name', 'passed', 'marks', 'sports', 'DoB']"
     ]
    }
   ],
   "source": [
    "student_records_df.columns"
   ]
  },
  {
   "cell_type": "code",
   "execution_count": 0,
   "metadata": {
    "application/vnd.databricks.v1+cell": {
     "cellMetadata": {
      "byteLimit": 2048000,
      "rowLimit": 10000
     },
     "inputWidgets": {},
     "nuid": "79915cc6-58d0-40bc-90b3-f3a5d734f5de",
     "showTitle": false,
     "title": ""
    }
   },
   "outputs": [],
   "source": [
    "student_records_df = student_records_df.drop('passed')"
   ]
  },
  {
   "cell_type": "code",
   "execution_count": 0,
   "metadata": {
    "application/vnd.databricks.v1+cell": {
     "cellMetadata": {
      "byteLimit": 2048000,
      "rowLimit": 10000
     },
     "inputWidgets": {},
     "nuid": "e17879c0-fbb5-4731-b23b-6b03609542c5",
     "showTitle": false,
     "title": ""
    }
   },
   "outputs": [],
   "source": [
    "# Few More Queries"
   ]
  },
  {
   "cell_type": "code",
   "execution_count": 0,
   "metadata": {
    "application/vnd.databricks.v1+cell": {
     "cellMetadata": {
      "byteLimit": 2048000,
      "rowLimit": 10000
     },
     "inputWidgets": {},
     "nuid": "2302d2ad-b07a-4c3e-baa0-8efffea91b3b",
     "showTitle": false,
     "title": ""
    }
   },
   "outputs": [
    {
     "name": "stdout",
     "output_type": "stream",
     "text": [
      "+---------+\n",
      "|avg_marks|\n",
      "+---------+\n",
      "|     86.0|\n",
      "|     32.0|\n",
      "+---------+\n",
      "\n"
     ]
    }
   ],
   "source": [
    "spark.sql(\"SELECT round( (marks.Physics+marks.Chemistry+marks.Math)/3) avg_marks FROM records\").show()"
   ]
  },
  {
   "cell_type": "code",
   "execution_count": 0,
   "metadata": {
    "application/vnd.databricks.v1+cell": {
     "cellMetadata": {
      "byteLimit": 2048000,
      "rowLimit": 10000
     },
     "inputWidgets": {},
     "nuid": "bf6a2b71-fd5a-473d-821a-7e610f2ef0ce",
     "showTitle": false,
     "title": ""
    }
   },
   "outputs": [
    {
     "name": "stdout",
     "output_type": "stream",
     "text": [
      "+-------+----------+------+--------------------+--------------------+-------------------+---------+\n",
      "|roll_no|      name|passed|               marks|              sports|                DoB|avg_marks|\n",
      "+-------+----------+------+--------------------+--------------------+-------------------+---------+\n",
      "|      1|  John Doe|  true|{Chemistry -> 81,...|   [chess, football]|2012-05-01 13:01:05|     86.0|\n",
      "|      2|John Smith| false|{Chemistry -> 36,...|[volleyball, tabl...|2012-05-12 14:02:05|     32.0|\n",
      "+-------+----------+------+--------------------+--------------------+-------------------+---------+\n",
      "\n"
     ]
    }
   ],
   "source": [
    "student_records_df=spark.sql(\"SELECT *, round( (marks.Physics+marks.Chemistry+marks.Math)/3) avg_marks FROM records\")\n",
    "student_records_df.show()"
   ]
  },
  {
   "cell_type": "code",
   "execution_count": 0,
   "metadata": {
    "application/vnd.databricks.v1+cell": {
     "cellMetadata": {
      "byteLimit": 2048000,
      "rowLimit": 10000
     },
     "inputWidgets": {},
     "nuid": "3a2ba101-e639-4a40-be60-2132a51452d7",
     "showTitle": false,
     "title": ""
    }
   },
   "outputs": [],
   "source": [
    "student_records_df.createOrReplaceTempView('records')"
   ]
  },
  {
   "cell_type": "code",
   "execution_count": 0,
   "metadata": {
    "application/vnd.databricks.v1+cell": {
     "cellMetadata": {
      "byteLimit": 2048000,
      "rowLimit": 10000
     },
     "inputWidgets": {},
     "nuid": "5b1c4ace-546a-4b27-b52c-a5a9a972ad34",
     "showTitle": false,
     "title": ""
    }
   },
   "outputs": [
    {
     "name": "stdout",
     "output_type": "stream",
     "text": [
      "+-------+----------+------+--------------------+--------------------+-------------------+---------+------+\n",
      "|roll_no|      name|passed|               marks|              sports|                DoB|avg_marks|status|\n",
      "+-------+----------+------+--------------------+--------------------+-------------------+---------+------+\n",
      "|      1|  John Doe|  true|{Chemistry -> 81,...|   [chess, football]|2012-05-01 13:01:05|     86.0|passed|\n",
      "|      2|John Smith| false|{Chemistry -> 36,...|[volleyball, tabl...|2012-05-12 14:02:05|     32.0|failed|\n",
      "+-------+----------+------+--------------------+--------------------+-------------------+---------+------+\n",
      "\n"
     ]
    }
   ],
   "source": [
    "student_records_df  = student_records_df.withColumn('status',(when(col('avg_marks')>=40, 'passed')).otherwise('failed'))\n",
    "student_records_df.show()"
   ]
  },
  {
   "cell_type": "code",
   "execution_count": 0,
   "metadata": {
    "application/vnd.databricks.v1+cell": {
     "cellMetadata": {
      "byteLimit": 2048000,
      "rowLimit": 10000
     },
     "inputWidgets": {},
     "nuid": "1542391d-c2b5-42a2-bdfb-675830f817fc",
     "showTitle": false,
     "title": ""
    }
   },
   "outputs": [],
   "source": [
    "# another table"
   ]
  },
  {
   "cell_type": "code",
   "execution_count": 0,
   "metadata": {
    "application/vnd.databricks.v1+cell": {
     "cellMetadata": {
      "byteLimit": 2048000,
      "rowLimit": 10000
     },
     "inputWidgets": {},
     "nuid": "03c9dfbb-3f97-4c08-b05c-539307472814",
     "showTitle": false,
     "title": ""
    }
   },
   "outputs": [],
   "source": [
    "employeeData =(('John','HR','NY',90000,34,10000),\n",
    "('Neha','HR','NY',86000,28,20000),\n",
    "('Robert','Sales','CA',81000,56,22000),\n",
    "('Maria','Sales','CA',99000,45,15000),\n",
    "('Paul','IT','NY',98000,38,14000),\n",
    "('Jen','IT','CA',90000,34,20000),\n",
    "('Raj','IT','CA',93000,28,28000),\n",
    "('Pooja','IT','CA',95000,31,19000))\n",
    "columns = ('employee_name','department','state','salary','age','bonus')"
   ]
  },
  {
   "cell_type": "code",
   "execution_count": 0,
   "metadata": {
    "application/vnd.databricks.v1+cell": {
     "cellMetadata": {
      "byteLimit": 2048000,
      "rowLimit": 10000
     },
     "inputWidgets": {},
     "nuid": "d272eadc-e5b7-4731-ab45-5b8393cda3cc",
     "showTitle": false,
     "title": ""
    }
   },
   "outputs": [],
   "source": [
    "employeeDf = spark.createDataFrame(employeeData, columns)"
   ]
  },
  {
   "cell_type": "code",
   "execution_count": 0,
   "metadata": {
    "application/vnd.databricks.v1+cell": {
     "cellMetadata": {
      "byteLimit": 2048000,
      "rowLimit": 10000
     },
     "inputWidgets": {},
     "nuid": "f33ca9e0-545a-49e3-8f95-b209f2fc27ea",
     "showTitle": false,
     "title": ""
    }
   },
   "outputs": [
    {
     "name": "stdout",
     "output_type": "stream",
     "text": [
      "+----------+-----------+\n",
      "|department|sum(salary)|\n",
      "+----------+-----------+\n",
      "|        HR|     176000|\n",
      "|     Sales|     180000|\n",
      "|        IT|     376000|\n",
      "+----------+-----------+\n",
      "\n"
     ]
    }
   ],
   "source": [
    "employeeDf.groupby(col('department')).agg(sum(col('salary'))).show()"
   ]
  },
  {
   "cell_type": "code",
   "execution_count": 0,
   "metadata": {
    "application/vnd.databricks.v1+cell": {
     "cellMetadata": {
      "byteLimit": 2048000,
      "rowLimit": 10000
     },
     "inputWidgets": {},
     "nuid": "91729cc6-531d-4f53-98b9-750373af4ef4",
     "showTitle": false,
     "title": ""
    }
   },
   "outputs": [
    {
     "name": "stdout",
     "output_type": "stream",
     "text": [
      "+----------+---------+\n",
      "|department|total_sal|\n",
      "+----------+---------+\n",
      "|        HR|   176000|\n",
      "|     Sales|   180000|\n",
      "|        IT|   376000|\n",
      "+----------+---------+\n",
      "\n"
     ]
    }
   ],
   "source": [
    "employeeDf.groupby(col('department')).agg(sum(col('salary')).alias('total_sal')).orderBy('total_sal').show()"
   ]
  },
  {
   "cell_type": "code",
   "execution_count": 0,
   "metadata": {
    "application/vnd.databricks.v1+cell": {
     "cellMetadata": {
      "byteLimit": 2048000,
      "rowLimit": 10000
     },
     "inputWidgets": {},
     "nuid": "098adc80-ae46-4997-a6ee-a00f61597d0a",
     "showTitle": false,
     "title": ""
    }
   },
   "outputs": [
    {
     "name": "stdout",
     "output_type": "stream",
     "text": [
      "+----------+---------+\n",
      "|department|total_sal|\n",
      "+----------+---------+\n",
      "|        IT|   376000|\n",
      "|     Sales|   180000|\n",
      "|        HR|   176000|\n",
      "+----------+---------+\n",
      "\n"
     ]
    }
   ],
   "source": [
    "employeeDf.groupby(col('department')).agg(sum(col('salary')).alias('total_sal')).orderBy(col('total_sal').desc()).show()"
   ]
  },
  {
   "cell_type": "code",
   "execution_count": 0,
   "metadata": {
    "application/vnd.databricks.v1+cell": {
     "cellMetadata": {
      "byteLimit": 2048000,
      "rowLimit": 10000
     },
     "inputWidgets": {},
     "nuid": "563def5c-4dde-4c45-96d6-b0b384ef3843",
     "showTitle": false,
     "title": ""
    }
   },
   "outputs": [
    {
     "name": "stdout",
     "output_type": "stream",
     "text": [
      "+----------+-----+----------+\n",
      "|department|state|sum(bonus)|\n",
      "+----------+-----+----------+\n",
      "|        HR|   NY|     30000|\n",
      "|     Sales|   CA|     37000|\n",
      "|        IT|   NY|     14000|\n",
      "|        IT|   CA|     67000|\n",
      "+----------+-----+----------+\n",
      "\n"
     ]
    }
   ],
   "source": [
    "employeeDf.groupby(col('department'),col('state')).agg(sum(col('bonus'))).show()"
   ]
  },
  {
   "cell_type": "code",
   "execution_count": 0,
   "metadata": {
    "application/vnd.databricks.v1+cell": {
     "cellMetadata": {
      "byteLimit": 2048000,
      "rowLimit": 10000
     },
     "inputWidgets": {},
     "nuid": "611c860c-6f29-42de-bdf2-9c56c01e4847",
     "showTitle": false,
     "title": ""
    }
   },
   "outputs": [
    {
     "name": "stdout",
     "output_type": "stream",
     "text": [
      "+----------+--------------+-------------+\n",
      "|department|avarage_salary|maximum_bonus|\n",
      "+----------+--------------+-------------+\n",
      "|        HR|       88000.0|        20000|\n",
      "|     Sales|       90000.0|        22000|\n",
      "|        IT|       94000.0|        28000|\n",
      "+----------+--------------+-------------+\n",
      "\n"
     ]
    }
   ],
   "source": [
    "employeeDf.groupby(col('department')).agg(avg(col('salary')).alias('avarage_salary'),max(col('bonus')).alias('maximum_bonus')).show()"
   ]
  }
 ],
 "metadata": {
  "application/vnd.databricks.v1+notebook": {
   "dashboards": [],
   "language": "python",
   "notebookMetadata": {
    "pythonIndentUnit": 4
   },
   "notebookName": "225229141 SPARK SQL",
   "widgets": {}
  },
  "kernelspec": {
   "display_name": "Python 3 (ipykernel)",
   "language": "python",
   "name": "python3"
  },
  "language_info": {
   "codemirror_mode": {
    "name": "ipython",
    "version": 3
   },
   "file_extension": ".py",
   "mimetype": "text/x-python",
   "name": "python",
   "nbconvert_exporter": "python",
   "pygments_lexer": "ipython3",
   "version": "3.9.13"
  }
 },
 "nbformat": 4,
 "nbformat_minor": 1
}
