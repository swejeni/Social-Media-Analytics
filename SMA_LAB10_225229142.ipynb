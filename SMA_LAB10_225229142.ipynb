{
 "cells": [
  {
   "cell_type": "markdown",
   "id": "1b6d22d4",
   "metadata": {},
   "source": [
    "### SMA Lab 10: Build a recommender system based on amazon reviews "
   ]
  },
  {
   "cell_type": "code",
   "execution_count": 1,
   "id": "c33fe320",
   "metadata": {},
   "outputs": [],
   "source": [
    "#importing the packages \n",
    "import pandas as pd\n",
    "import matplotlib.pyplot as plt\n",
    "%matplotlib inline\n",
    "import warnings\n",
    "warnings.filterwarnings('ignore')"
   ]
  },
  {
   "cell_type": "code",
   "execution_count": 27,
   "id": "abc0cd0e",
   "metadata": {},
   "outputs": [
    {
     "data": {
      "text/html": [
       "<div>\n",
       "<style scoped>\n",
       "    .dataframe tbody tr th:only-of-type {\n",
       "        vertical-align: middle;\n",
       "    }\n",
       "\n",
       "    .dataframe tbody tr th {\n",
       "        vertical-align: top;\n",
       "    }\n",
       "\n",
       "    .dataframe thead th {\n",
       "        text-align: right;\n",
       "    }\n",
       "</style>\n",
       "<table border=\"1\" class=\"dataframe\">\n",
       "  <thead>\n",
       "    <tr style=\"text-align: right;\">\n",
       "      <th></th>\n",
       "      <th>UserId</th>\n",
       "      <th>ProductId</th>\n",
       "      <th>Rating</th>\n",
       "      <th>Timestamp</th>\n",
       "    </tr>\n",
       "  </thead>\n",
       "  <tbody>\n",
       "    <tr>\n",
       "      <th>0</th>\n",
       "      <td>A39HTATAQ9V7YF</td>\n",
       "      <td>0205616461</td>\n",
       "      <td>5.0</td>\n",
       "      <td>1369699200</td>\n",
       "    </tr>\n",
       "    <tr>\n",
       "      <th>1</th>\n",
       "      <td>A3JM6GV9MNOF9X</td>\n",
       "      <td>0558925278</td>\n",
       "      <td>3.0</td>\n",
       "      <td>1355443200</td>\n",
       "    </tr>\n",
       "    <tr>\n",
       "      <th>2</th>\n",
       "      <td>A1Z513UWSAAO0F</td>\n",
       "      <td>0558925278</td>\n",
       "      <td>5.0</td>\n",
       "      <td>1404691200</td>\n",
       "    </tr>\n",
       "    <tr>\n",
       "      <th>3</th>\n",
       "      <td>A1WMRR494NWEWV</td>\n",
       "      <td>0733001998</td>\n",
       "      <td>4.0</td>\n",
       "      <td>1382572800</td>\n",
       "    </tr>\n",
       "    <tr>\n",
       "      <th>4</th>\n",
       "      <td>A3IAAVS479H7M7</td>\n",
       "      <td>0737104473</td>\n",
       "      <td>1.0</td>\n",
       "      <td>1274227200</td>\n",
       "    </tr>\n",
       "  </tbody>\n",
       "</table>\n",
       "</div>"
      ],
      "text/plain": [
       "           UserId   ProductId  Rating   Timestamp\n",
       "0  A39HTATAQ9V7YF  0205616461     5.0  1369699200\n",
       "1  A3JM6GV9MNOF9X  0558925278     3.0  1355443200\n",
       "2  A1Z513UWSAAO0F  0558925278     5.0  1404691200\n",
       "3  A1WMRR494NWEWV  0733001998     4.0  1382572800\n",
       "4  A3IAAVS479H7M7  0737104473     1.0  1274227200"
      ]
     },
     "execution_count": 27,
     "metadata": {},
     "output_type": "execute_result"
    }
   ],
   "source": [
    "df = pd.read_csv(\"ratings_Beauty.csv\")\n",
    "df.head()"
   ]
  },
  {
   "cell_type": "code",
   "execution_count": 3,
   "id": "fa8ab256",
   "metadata": {},
   "outputs": [
    {
     "name": "stdout",
     "output_type": "stream",
     "text": [
      "There are 2023070 rows and 4 columns.\n"
     ]
    }
   ],
   "source": [
    "#shape of the dataset\n",
    "print(\"There are\",df.shape[0], \"rows and\", df.shape[1],\"columns.\")"
   ]
  },
  {
   "cell_type": "code",
   "execution_count": 4,
   "id": "4631d738",
   "metadata": {},
   "outputs": [
    {
     "name": "stdout",
     "output_type": "stream",
     "text": [
      "<class 'pandas.core.frame.DataFrame'>\n",
      "RangeIndex: 2023070 entries, 0 to 2023069\n",
      "Data columns (total 4 columns):\n",
      " #   Column     Dtype  \n",
      "---  ------     -----  \n",
      " 0   UserId     object \n",
      " 1   ProductId  object \n",
      " 2   Rating     float64\n",
      " 3   Timestamp  int64  \n",
      "dtypes: float64(1), int64(1), object(2)\n",
      "memory usage: 61.7+ MB\n"
     ]
    }
   ],
   "source": [
    "#info method\n",
    "df.info()"
   ]
  },
  {
   "cell_type": "code",
   "execution_count": 5,
   "id": "79d0a20f",
   "metadata": {},
   "outputs": [
    {
     "data": {
      "text/html": [
       "<div>\n",
       "<style scoped>\n",
       "    .dataframe tbody tr th:only-of-type {\n",
       "        vertical-align: middle;\n",
       "    }\n",
       "\n",
       "    .dataframe tbody tr th {\n",
       "        vertical-align: top;\n",
       "    }\n",
       "\n",
       "    .dataframe thead th {\n",
       "        text-align: right;\n",
       "    }\n",
       "</style>\n",
       "<table border=\"1\" class=\"dataframe\">\n",
       "  <thead>\n",
       "    <tr style=\"text-align: right;\">\n",
       "      <th></th>\n",
       "      <th>UserId</th>\n",
       "      <th>ProductId</th>\n",
       "      <th>Rating</th>\n",
       "      <th>Timestamp</th>\n",
       "    </tr>\n",
       "  </thead>\n",
       "  <tbody>\n",
       "    <tr>\n",
       "      <th>count</th>\n",
       "      <td>2023070</td>\n",
       "      <td>2023070</td>\n",
       "      <td>2.023070e+06</td>\n",
       "      <td>2.023070e+06</td>\n",
       "    </tr>\n",
       "    <tr>\n",
       "      <th>unique</th>\n",
       "      <td>1210271</td>\n",
       "      <td>249274</td>\n",
       "      <td>NaN</td>\n",
       "      <td>NaN</td>\n",
       "    </tr>\n",
       "    <tr>\n",
       "      <th>top</th>\n",
       "      <td>A3KEZLJ59C1JVH</td>\n",
       "      <td>B001MA0QY2</td>\n",
       "      <td>NaN</td>\n",
       "      <td>NaN</td>\n",
       "    </tr>\n",
       "    <tr>\n",
       "      <th>freq</th>\n",
       "      <td>389</td>\n",
       "      <td>7533</td>\n",
       "      <td>NaN</td>\n",
       "      <td>NaN</td>\n",
       "    </tr>\n",
       "    <tr>\n",
       "      <th>mean</th>\n",
       "      <td>NaN</td>\n",
       "      <td>NaN</td>\n",
       "      <td>4.149036e+00</td>\n",
       "      <td>1.360389e+09</td>\n",
       "    </tr>\n",
       "    <tr>\n",
       "      <th>std</th>\n",
       "      <td>NaN</td>\n",
       "      <td>NaN</td>\n",
       "      <td>1.311505e+00</td>\n",
       "      <td>4.611860e+07</td>\n",
       "    </tr>\n",
       "    <tr>\n",
       "      <th>min</th>\n",
       "      <td>NaN</td>\n",
       "      <td>NaN</td>\n",
       "      <td>1.000000e+00</td>\n",
       "      <td>9.087552e+08</td>\n",
       "    </tr>\n",
       "    <tr>\n",
       "      <th>25%</th>\n",
       "      <td>NaN</td>\n",
       "      <td>NaN</td>\n",
       "      <td>4.000000e+00</td>\n",
       "      <td>1.350259e+09</td>\n",
       "    </tr>\n",
       "    <tr>\n",
       "      <th>50%</th>\n",
       "      <td>NaN</td>\n",
       "      <td>NaN</td>\n",
       "      <td>5.000000e+00</td>\n",
       "      <td>1.372810e+09</td>\n",
       "    </tr>\n",
       "    <tr>\n",
       "      <th>75%</th>\n",
       "      <td>NaN</td>\n",
       "      <td>NaN</td>\n",
       "      <td>5.000000e+00</td>\n",
       "      <td>1.391472e+09</td>\n",
       "    </tr>\n",
       "    <tr>\n",
       "      <th>max</th>\n",
       "      <td>NaN</td>\n",
       "      <td>NaN</td>\n",
       "      <td>5.000000e+00</td>\n",
       "      <td>1.406074e+09</td>\n",
       "    </tr>\n",
       "  </tbody>\n",
       "</table>\n",
       "</div>"
      ],
      "text/plain": [
       "                UserId   ProductId        Rating     Timestamp\n",
       "count          2023070     2023070  2.023070e+06  2.023070e+06\n",
       "unique         1210271      249274           NaN           NaN\n",
       "top     A3KEZLJ59C1JVH  B001MA0QY2           NaN           NaN\n",
       "freq               389        7533           NaN           NaN\n",
       "mean               NaN         NaN  4.149036e+00  1.360389e+09\n",
       "std                NaN         NaN  1.311505e+00  4.611860e+07\n",
       "min                NaN         NaN  1.000000e+00  9.087552e+08\n",
       "25%                NaN         NaN  4.000000e+00  1.350259e+09\n",
       "50%                NaN         NaN  5.000000e+00  1.372810e+09\n",
       "75%                NaN         NaN  5.000000e+00  1.391472e+09\n",
       "max                NaN         NaN  5.000000e+00  1.406074e+09"
      ]
     },
     "execution_count": 5,
     "metadata": {},
     "output_type": "execute_result"
    }
   ],
   "source": [
    "df.describe(include='all')"
   ]
  },
  {
   "cell_type": "code",
   "execution_count": 6,
   "id": "8ff426d1",
   "metadata": {},
   "outputs": [
    {
     "data": {
      "text/plain": [
       "ProductId\n",
       "0205616461    5.0\n",
       "0558925278    4.0\n",
       "0733001998    4.0\n",
       "0737104473    1.0\n",
       "0762451459    5.0\n",
       "Name: Rating, dtype: float64"
      ]
     },
     "execution_count": 6,
     "metadata": {},
     "output_type": "execute_result"
    }
   ],
   "source": [
    "# Mean rating for each Product\n",
    "product_rating = df.groupby('ProductId')['Rating'].mean()\n",
    "product_rating.head()"
   ]
  },
  {
   "cell_type": "code",
   "execution_count": 7,
   "id": "0cefa27d",
   "metadata": {},
   "outputs": [
    {
     "data": {
      "text/plain": [
       "ProductId\n",
       "0205616461    1\n",
       "0558925278    2\n",
       "0733001998    1\n",
       "0737104473    1\n",
       "0762451459    1\n",
       "Name: Rating, dtype: int64"
      ]
     },
     "execution_count": 7,
     "metadata": {},
     "output_type": "execute_result"
    }
   ],
   "source": [
    "# Count of the number of ratings per Product\n",
    "product_rating_count = df.groupby('ProductId')['Rating'].count()\n",
    "product_rating_count.head()"
   ]
  },
  {
   "cell_type": "code",
   "execution_count": 8,
   "id": "3919452a",
   "metadata": {},
   "outputs": [
    {
     "data": {
      "text/plain": [
       "ProductId\n",
       "0205616461    0.000000\n",
       "0558925278    0.816497\n",
       "0733001998    0.000000\n",
       "0737104473    0.000000\n",
       "0762451459    0.000000\n",
       "Name: Rating, dtype: float64"
      ]
     },
     "execution_count": 8,
     "metadata": {},
     "output_type": "execute_result"
    }
   ],
   "source": [
    "# Un-Reliability factor\n",
    "unreliability = df.groupby('ProductId')['Rating'].std(ddof = -1)\n",
    "unreliability.head()\n"
   ]
  },
  {
   "cell_type": "markdown",
   "id": "b6398447",
   "metadata": {},
   "source": [
    "### Step 3: Check for missing values and outliers\n"
   ]
  },
  {
   "cell_type": "code",
   "execution_count": 9,
   "id": "9b14bd1f",
   "metadata": {},
   "outputs": [
    {
     "data": {
      "text/plain": [
       "UserId       0\n",
       "ProductId    0\n",
       "Rating       0\n",
       "Timestamp    0\n",
       "dtype: int64"
      ]
     },
     "execution_count": 9,
     "metadata": {},
     "output_type": "execute_result"
    }
   ],
   "source": [
    "df.isnull().sum()"
   ]
  },
  {
   "cell_type": "code",
   "execution_count": 10,
   "id": "dcaa4b8f",
   "metadata": {},
   "outputs": [
    {
     "data": {
      "image/png": "[encoded data removed]",
      "text/plain": [
       "<Figure size 640x480 with 1 Axes>"
      ]
     },
     "metadata": {},
     "output_type": "display_data"
    }
   ],
   "source": [
    "import seaborn as sns\n",
    "sns.countplot(x='Rating',data=df)\n",
    "plt.show()\n"
   ]
  },
  {
   "cell_type": "code",
   "execution_count": 11,
   "id": "b6fadc3f",
   "metadata": {},
   "outputs": [],
   "source": [
    "def find_outliers_IQR(df):\n",
    "    q1=df.quantile(0.25)\n",
    "    q3=df.quantile(0.75)\n",
    "    IQR=q3-q1\n",
    "    outliers = df[((df<(q1-1.5*IQR)) | (df>(q3+1.5*IQR)))]\n",
    "    return outliers"
   ]
  },
  {
   "cell_type": "code",
   "execution_count": 12,
   "id": "3a2feb05",
   "metadata": {},
   "outputs": [
    {
     "name": "stdout",
     "output_type": "stream",
     "text": [
      "number of outliers: 296818\n",
      "max outlier value: 2.0\n",
      "min outlier value: 1.0\n"
     ]
    }
   ],
   "source": [
    "#outlier for rating feature in the dataset\n",
    "outliers = find_outliers_IQR(df['Rating'])\n",
    "print(\"number of outliers: \"+ str(len(outliers)))\n",
    "print(\"max outlier value: \"+ str(outliers.max()))\n",
    "print(\"min outlier value: \"+ str(outliers.min()))\n"
   ]
  },
  {
   "cell_type": "code",
   "execution_count": 13,
   "id": "8aa9064a",
   "metadata": {},
   "outputs": [
    {
     "name": "stdout",
     "output_type": "stream",
     "text": [
      "number of outliers: 154846\n",
      "max outlier value: 1288396800\n",
      "min outlier value: 908755200\n"
     ]
    }
   ],
   "source": [
    "#outlier for timestamp feature in dataset\n",
    "outliers = find_outliers_IQR(df['Timestamp'])\n",
    "print(\"number of outliers: \"+ str(len(outliers)))\n",
    "print(\"max outlier value: \"+ str(outliers.max()))\n",
    "print(\"min outlier value: \"+ str(outliers.min()))"
   ]
  },
  {
   "cell_type": "code",
   "execution_count": 14,
   "id": "cbe359d1",
   "metadata": {},
   "outputs": [
    {
     "data": {
      "text/html": [
       "<div>\n",
       "<style scoped>\n",
       "    .dataframe tbody tr th:only-of-type {\n",
       "        vertical-align: middle;\n",
       "    }\n",
       "\n",
       "    .dataframe tbody tr th {\n",
       "        vertical-align: top;\n",
       "    }\n",
       "\n",
       "    .dataframe thead th {\n",
       "        text-align: right;\n",
       "    }\n",
       "</style>\n",
       "<table border=\"1\" class=\"dataframe\">\n",
       "  <thead>\n",
       "    <tr style=\"text-align: right;\">\n",
       "      <th></th>\n",
       "      <th>Rating</th>\n",
       "      <th>Count</th>\n",
       "      <th>Unreliability</th>\n",
       "    </tr>\n",
       "    <tr>\n",
       "      <th>ProductId</th>\n",
       "      <th></th>\n",
       "      <th></th>\n",
       "      <th></th>\n",
       "    </tr>\n",
       "  </thead>\n",
       "  <tbody>\n",
       "    <tr>\n",
       "      <th>0205616461</th>\n",
       "      <td>5.0</td>\n",
       "      <td>1</td>\n",
       "      <td>0.000000</td>\n",
       "    </tr>\n",
       "    <tr>\n",
       "      <th>0558925278</th>\n",
       "      <td>4.0</td>\n",
       "      <td>2</td>\n",
       "      <td>0.816497</td>\n",
       "    </tr>\n",
       "    <tr>\n",
       "      <th>0733001998</th>\n",
       "      <td>4.0</td>\n",
       "      <td>1</td>\n",
       "      <td>0.000000</td>\n",
       "    </tr>\n",
       "    <tr>\n",
       "      <th>0737104473</th>\n",
       "      <td>1.0</td>\n",
       "      <td>1</td>\n",
       "      <td>0.000000</td>\n",
       "    </tr>\n",
       "    <tr>\n",
       "      <th>0762451459</th>\n",
       "      <td>5.0</td>\n",
       "      <td>1</td>\n",
       "      <td>0.000000</td>\n",
       "    </tr>\n",
       "  </tbody>\n",
       "</table>\n",
       "</div>"
      ],
      "text/plain": [
       "            Rating  Count  Unreliability\n",
       "ProductId                               \n",
       "0205616461     5.0      1       0.000000\n",
       "0558925278     4.0      2       0.816497\n",
       "0733001998     4.0      1       0.000000\n",
       "0737104473     1.0      1       0.000000\n",
       "0762451459     5.0      1       0.000000"
      ]
     },
     "execution_count": 14,
     "metadata": {},
     "output_type": "execute_result"
    }
   ],
   "source": [
    "# Data frame with calculated fields and measures\n",
    "unique_products_list = df.ProductId.unique()\n",
    "data_model = pd.DataFrame({'Rating': product_rating[unique_products_list],\\\n",
    " 'Count': product_rating_count[unique_products_list], \\\n",
    " 'Unreliability': unreliability[unique_products_list]})\n",
    "data_model.head()\n"
   ]
  },
  {
   "cell_type": "code",
   "execution_count": 15,
   "id": "9b0b7e59",
   "metadata": {},
   "outputs": [
    {
     "name": "stdout",
     "output_type": "stream",
     "text": [
      "(6763, 3)\n"
     ]
    }
   ],
   "source": [
    "# Removing outliers and improbable data points\n",
    "data_model = data_model[data_model.Count > 50][data_model.Count < 1001].copy()\n",
    "print(data_model.shape)"
   ]
  },
  {
   "cell_type": "code",
   "execution_count": 16,
   "id": "f6abad98",
   "metadata": {},
   "outputs": [],
   "source": [
    "# Normalization function to range 0 - 10\n",
    "def normalize(values):\n",
    "    mn = values.min()\n",
    "    mx = values.max()\n",
    "    return(10.0/(mx - mn) * (values - mx)+10)"
   ]
  },
  {
   "cell_type": "code",
   "execution_count": 17,
   "id": "a51ceaed",
   "metadata": {},
   "outputs": [
    {
     "data": {
      "text/html": [
       "<div>\n",
       "<style scoped>\n",
       "    .dataframe tbody tr th:only-of-type {\n",
       "        vertical-align: middle;\n",
       "    }\n",
       "\n",
       "    .dataframe tbody tr th {\n",
       "        vertical-align: top;\n",
       "    }\n",
       "\n",
       "    .dataframe thead th {\n",
       "        text-align: right;\n",
       "    }\n",
       "</style>\n",
       "<table border=\"1\" class=\"dataframe\">\n",
       "  <thead>\n",
       "    <tr style=\"text-align: right;\">\n",
       "      <th></th>\n",
       "      <th>Rating</th>\n",
       "      <th>Count</th>\n",
       "      <th>Unreliability</th>\n",
       "    </tr>\n",
       "    <tr>\n",
       "      <th>ProductId</th>\n",
       "      <th></th>\n",
       "      <th></th>\n",
       "      <th></th>\n",
       "    </tr>\n",
       "  </thead>\n",
       "  <tbody>\n",
       "    <tr>\n",
       "      <th>9790790961</th>\n",
       "      <td>7.991506</td>\n",
       "      <td>0.201913</td>\n",
       "      <td>6.557281</td>\n",
       "    </tr>\n",
       "    <tr>\n",
       "      <th>B00004TMFE</th>\n",
       "      <td>5.713948</td>\n",
       "      <td>0.913921</td>\n",
       "      <td>7.953812</td>\n",
       "    </tr>\n",
       "    <tr>\n",
       "      <th>B00004TUBL</th>\n",
       "      <td>8.992153</td>\n",
       "      <td>5.387885</td>\n",
       "      <td>4.449336</td>\n",
       "    </tr>\n",
       "    <tr>\n",
       "      <th>B00004TUBV</th>\n",
       "      <td>7.984827</td>\n",
       "      <td>1.275239</td>\n",
       "      <td>6.268773</td>\n",
       "    </tr>\n",
       "    <tr>\n",
       "      <th>B00004U9UY</th>\n",
       "      <td>9.244724</td>\n",
       "      <td>1.009564</td>\n",
       "      <td>4.066169</td>\n",
       "    </tr>\n",
       "  </tbody>\n",
       "</table>\n",
       "</div>"
      ],
      "text/plain": [
       "              Rating     Count  Unreliability\n",
       "ProductId                                    \n",
       "9790790961  7.991506  0.201913       6.557281\n",
       "B00004TMFE  5.713948  0.913921       7.953812\n",
       "B00004TUBL  8.992153  5.387885       4.449336\n",
       "B00004TUBV  7.984827  1.275239       6.268773\n",
       "B00004U9UY  9.244724  1.009564       4.066169"
      ]
     },
     "execution_count": 17,
     "metadata": {},
     "output_type": "execute_result"
    }
   ],
   "source": [
    "data_model_norm = normalize(data_model)\n",
    "data_model_norm.head()\n"
   ]
  },
  {
   "cell_type": "markdown",
   "id": "ccfb372b",
   "metadata": {},
   "source": [
    "### Step 4: Apply Recommendations algorithms to the dataset"
   ]
  },
  {
   "cell_type": "code",
   "execution_count": 18,
   "id": "107713cf",
   "metadata": {},
   "outputs": [
    {
     "name": "stdout",
     "output_type": "stream",
     "text": [
      "Data points:  [[0.20191286 7.99150579 6.55728119]\n",
      " [0.91392136 5.71394752 7.95381168]\n",
      " [5.38788523 8.99215344 4.44933587]\n",
      " ...\n",
      " [0.21253985 9.6117244  2.18485285]\n",
      " [3.04994687 9.33120102 2.47548276]\n",
      " [4.64399575 8.69505981 5.78555039]]\n",
      "\n",
      "\n",
      "Labels:  ['9790790961' 'B00004TMFE' 'B00004TUBL' ... 'B00KWE08Q0' 'B00KWFDBKE'\n",
      " 'B00L5JHZJO']\n"
     ]
    }
   ],
   "source": [
    "# Setting up the model\n",
    "# Recommend 20 similar items\n",
    "from sklearn.neighbors import KNeighborsClassifier\n",
    "engine = KNeighborsClassifier(n_neighbors=20)\n",
    "# Training data points\n",
    "data_points = data_model_norm[['Count', 'Rating', 'Unreliability']].values\n",
    "#Training labels\n",
    "labels = data_model_norm.index.values\n",
    "print(\"Data points: \", data_points)\n",
    "print('\\n')\n",
    "print(\"Labels: \",labels)"
   ]
  },
  {
   "cell_type": "code",
   "execution_count": 19,
   "id": "afca89f1",
   "metadata": {},
   "outputs": [
    {
     "data": {
      "text/plain": [
       "KNeighborsClassifier(n_neighbors=20)"
      ]
     },
     "execution_count": 19,
     "metadata": {},
     "output_type": "execute_result"
    }
   ],
   "source": [
    "engine.fit(data_points, labels)\n"
   ]
  },
  {
   "cell_type": "markdown",
   "id": "5d712e31",
   "metadata": {},
   "source": [
    "### Step 5: Give recommendations and interpret your result\n"
   ]
  },
  {
   "cell_type": "code",
   "execution_count": 21,
   "id": "9e60ee4c",
   "metadata": {},
   "outputs": [
    {
     "name": "stdout",
     "output_type": "stream",
     "text": [
      "Recommended products:\n",
      "['B00004TUBL', 'B0000AFUTL', 'B00CNOUZE2', 'B008TBTA6C', 'B009GIOVKC', 'B000ODNSR0', 'B000NWGCZ2', 'B00D6EDGYE', 'B002TPQPEE', 'B0013TM9UQ', 'B004XA81ZE', 'B009GEUPDS', 'B00132ZG3U', 'B00H93NJLS', 'B000OQ2DL4', 'B000F35R00', 'B0018DAUKI', 'B001DKQ3O8', 'B001ET77NY', 'B00178TVXG']\n"
     ]
    }
   ],
   "source": [
    "# User entered value\n",
    "product_id = 'B00004TUBL'\n",
    "product_data = data_model_norm.loc[product_id][['Count', 'Rating', 'Unreliability']].values\n",
    "\n",
    "# Find recommended products\n",
    "recommended_products = engine.kneighbors(X=[product_data], n_neighbors=20, return_distance=False)\n",
    "\n",
    "# List of product IDs from the indexes\n",
    "products_list = data_model_norm.iloc[recommended_products[0]].index.tolist()\n",
    "\n",
    "print(\"Recommended products:\")\n",
    "print(products_list)"
   ]
  },
  {
   "cell_type": "code",
   "execution_count": 24,
   "id": "6bf25a51",
   "metadata": {},
   "outputs": [
    {
     "data": {
      "image/png": "[encoded data removed]",
      "text/plain": [
       "<Figure size 640x480 with 1 Axes>"
      ]
     },
     "metadata": {},
     "output_type": "display_data"
    },
    {
     "data": {
      "image/png": "[encoded data removed]",
      "text/plain": [
       "<Figure size 640x480 with 1 Axes>"
      ]
     },
     "metadata": {},
     "output_type": "display_data"
    }
   ],
   "source": [
    "# Showing recommended products\n",
    "ax = data_model_norm.plot(kind='scatter', x='Rating', y='Count', color='grey', alpha=0.20)\n",
    "data_model_norm.iloc[recommended_products[0]].plot(kind='scatter', x='Rating', y='Count',\n",
    " color='orange', alpha=0.5, ax=ax)\n",
    "ax2 = data_model_norm.plot(kind='scatter', x='Rating', y='Unreliability', color='grey')\n",
    "data_model_norm.iloc[recommended_products[0]].plot(kind='scatter', x='Rating', y='Unreliability',\n",
    " color='orange', alpha=0.5, ax=ax2)\n",
    "plt.show()"
   ]
  }
 ],
 "metadata": {
  "kernelspec": {
   "display_name": "Python 3 (ipykernel)",
   "language": "python",
   "name": "python3"
  },
  "language_info": {
   "codemirror_mode": {
    "name": "ipython",
    "version": 3
   },
   "file_extension": ".py",
   "mimetype": "text/x-python",
   "name": "python",
   "nbconvert_exporter": "python",
   "pygments_lexer": "ipython3",
   "version": "3.9.13"
  }
 },
 "nbformat": 4,
 "nbformat_minor": 5
}
