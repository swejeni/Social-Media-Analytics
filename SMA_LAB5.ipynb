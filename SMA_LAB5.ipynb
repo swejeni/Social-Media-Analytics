{
 "cells": [
  {
   "cell_type": "markdown",
   "id": "01639f2e",
   "metadata": {},
   "source": [
    "### SMA Lab 5: Clustering the job titles of LinkedIn Connections using Greedy Heuristic Algorithm"
   ]
  },
  {
   "cell_type": "code",
   "execution_count": 1,
   "id": "4f27c0e9",
   "metadata": {},
   "outputs": [
    {
     "name": "stdout",
     "output_type": "stream",
     "text": [
      "Requirement already satisfied: scikit-learn in c:\\users\\sweth\\downloads\\nlp\\lib\\site-packages (1.0.2)\n",
      "Requirement already satisfied: pandas in c:\\users\\sweth\\downloads\\nlp\\lib\\site-packages (1.4.4)\n",
      "Requirement already satisfied: joblib>=0.11 in c:\\users\\sweth\\downloads\\nlp\\lib\\site-packages (from scikit-learn) (1.1.0)\n",
      "Requirement already satisfied: scipy>=1.1.0 in c:\\users\\sweth\\downloads\\nlp\\lib\\site-packages (from scikit-learn) (1.9.1)\n",
      "Requirement already satisfied: threadpoolctl>=2.0.0 in c:\\users\\sweth\\downloads\\nlp\\lib\\site-packages (from scikit-learn) (2.2.0)\n",
      "Requirement already satisfied: numpy>=1.14.6 in c:\\users\\sweth\\downloads\\nlp\\lib\\site-packages (from scikit-learn) (1.24.3)\n",
      "Requirement already satisfied: pytz>=2020.1 in c:\\users\\sweth\\downloads\\nlp\\lib\\site-packages (from pandas) (2022.1)\n",
      "Requirement already satisfied: python-dateutil>=2.8.1 in c:\\users\\sweth\\downloads\\nlp\\lib\\site-packages (from pandas) (2.8.2)\n",
      "Requirement already satisfied: six>=1.5 in c:\\users\\sweth\\downloads\\nlp\\lib\\site-packages (from python-dateutil>=2.8.1->pandas) (1.16.0)\n",
      "Note: you may need to restart the kernel to use updated packages.\n"
     ]
    }
   ],
   "source": [
    "pip install scikit-learn pandas"
   ]
  },
  {
   "cell_type": "code",
   "execution_count": 3,
   "id": "f31d8e7b",
   "metadata": {},
   "outputs": [],
   "source": [
    "import pandas as pd"
   ]
  },
  {
   "cell_type": "code",
   "execution_count": 4,
   "id": "1c1a586b",
   "metadata": {},
   "outputs": [],
   "source": [
    "df = pd.read_csv('JConnections.csv')"
   ]
  },
  {
   "cell_type": "code",
   "execution_count": 8,
   "id": "3c6de8d8",
   "metadata": {
    "scrolled": false
   },
   "outputs": [
    {
     "data": {
      "text/html": [
       "<div>\n",
       "<style scoped>\n",
       "    .dataframe tbody tr th:only-of-type {\n",
       "        vertical-align: middle;\n",
       "    }\n",
       "\n",
       "    .dataframe tbody tr th {\n",
       "        vertical-align: top;\n",
       "    }\n",
       "\n",
       "    .dataframe thead th {\n",
       "        text-align: right;\n",
       "    }\n",
       "</style>\n",
       "<table border=\"1\" class=\"dataframe\">\n",
       "  <thead>\n",
       "    <tr style=\"text-align: right;\">\n",
       "      <th></th>\n",
       "      <th>First Name</th>\n",
       "      <th>Last Name</th>\n",
       "      <th>URL</th>\n",
       "      <th>Unnamed: 3</th>\n",
       "      <th>Company</th>\n",
       "      <th>Position</th>\n",
       "      <th>Connected On</th>\n",
       "    </tr>\n",
       "  </thead>\n",
       "  <tbody>\n",
       "    <tr>\n",
       "      <th>0</th>\n",
       "      <td>ABISHEK</td>\n",
       "      <td>N</td>\n",
       "      <td>https://www.linkedin.com/in/abishek-n-687602218</td>\n",
       "      <td>NaN</td>\n",
       "      <td>NaN</td>\n",
       "      <td>NaN</td>\n",
       "      <td>27-Jul-23</td>\n",
       "    </tr>\n",
       "    <tr>\n",
       "      <th>1</th>\n",
       "      <td>quini</td>\n",
       "      <td>inisha</td>\n",
       "      <td>https://www.linkedin.com/in/quini-inisha-98156...</td>\n",
       "      <td>NaN</td>\n",
       "      <td>NaN</td>\n",
       "      <td>NaN</td>\n",
       "      <td>27-Jul-23</td>\n",
       "    </tr>\n",
       "    <tr>\n",
       "      <th>2</th>\n",
       "      <td>Annapoornima</td>\n",
       "      <td>S</td>\n",
       "      <td>https://www.linkedin.com/in/annapoornima-s-5b5...</td>\n",
       "      <td>NaN</td>\n",
       "      <td>NaN</td>\n",
       "      <td>NaN</td>\n",
       "      <td>24-Jul-23</td>\n",
       "    </tr>\n",
       "    <tr>\n",
       "      <th>3</th>\n",
       "      <td>Raj</td>\n",
       "      <td>Ga</td>\n",
       "      <td>https://www.linkedin.com/in/raj-ga-326979137</td>\n",
       "      <td>NaN</td>\n",
       "      <td>IBM</td>\n",
       "      <td>Systems Engineer</td>\n",
       "      <td>22-Jul-23</td>\n",
       "    </tr>\n",
       "    <tr>\n",
       "      <th>4</th>\n",
       "      <td>Alagar</td>\n",
       "      <td>raja</td>\n",
       "      <td>https://www.linkedin.com/in/alagar-raja001</td>\n",
       "      <td>alagarraja9894@gmail.com</td>\n",
       "      <td>KRISH COMPUTER</td>\n",
       "      <td>System Operator</td>\n",
       "      <td>20-Jul-23</td>\n",
       "    </tr>\n",
       "  </tbody>\n",
       "</table>\n",
       "</div>"
      ],
      "text/plain": [
       "     First Name Last Name                                                URL  \\\n",
       "0       ABISHEK         N    https://www.linkedin.com/in/abishek-n-687602218   \n",
       "1         quini    inisha  https://www.linkedin.com/in/quini-inisha-98156...   \n",
       "2  Annapoornima         S  https://www.linkedin.com/in/annapoornima-s-5b5...   \n",
       "3           Raj        Ga       https://www.linkedin.com/in/raj-ga-326979137   \n",
       "4        Alagar      raja         https://www.linkedin.com/in/alagar-raja001   \n",
       "\n",
       "                 Unnamed: 3          Company          Position Connected On  \n",
       "0                       NaN              NaN               NaN    27-Jul-23  \n",
       "1                       NaN              NaN               NaN    27-Jul-23  \n",
       "2                       NaN              NaN               NaN    24-Jul-23  \n",
       "3                       NaN              IBM  Systems Engineer    22-Jul-23  \n",
       "4  alagarraja9894@gmail.com  KRISH COMPUTER    System Operator    20-Jul-23  "
      ]
     },
     "execution_count": 8,
     "metadata": {},
     "output_type": "execute_result"
    }
   ],
   "source": [
    "df.head()"
   ]
  },
  {
   "cell_type": "code",
   "execution_count": 9,
   "id": "c4eb1522",
   "metadata": {},
   "outputs": [],
   "source": [
    "import pandas as pd\n",
    "from sklearn.feature_extraction.text import TfidfVectorizer\n",
    "from sklearn.metrics.pairwise import cosine_similarity\n",
    "\n",
    "# Sample LinkedIn connections' job titles\n",
    "linkedin_connections = [\n",
    "    \"Software Engineer\",\n",
    "    \"Data Analyst\",\n",
    "    \"Product Manager\",\n",
    "    \"Software Developer\",\n",
    "    \"Data Scientist\",\n",
    "    \"Software Engineer\",\n",
    "    \"Data Engineer\",\n",
    "    \"Product Manager\",\n",
    "    \"Data Analyst\",\n",
    "    \"Data Scientist\",\n",
    "    \"Product Manager\",\n",
    "    \"Software Engineer\",\n",
    "    \"Data Engineer\",\n",
    "    \"Data Scientist\"\n",
    "]\n",
    "\n",
    "# Function to calculate cosine similarity between job titles\n",
    "def calculate_cosine_similarity(titles):\n",
    "    vectorizer = TfidfVectorizer()\n",
    "    tfidf_matrix = vectorizer.fit_transform(titles)\n",
    "    similarity_matrix = cosine_similarity(tfidf_matrix, tfidf_matrix)\n",
    "    return similarity_matrix\n",
    "\n"
   ]
  },
  {
   "cell_type": "markdown",
   "id": "929702a5",
   "metadata": {},
   "source": [
    "#### Greedy Heuristic Algorithm for clustering job titles"
   ]
  },
  {
   "cell_type": "code",
   "execution_count": 10,
   "id": "643295ed",
   "metadata": {},
   "outputs": [
    {
     "name": "stdout",
     "output_type": "stream",
     "text": [
      "Cluster 1: ['Software Engineer', 'Data Engineer']\n",
      "Cluster 2: ['Product Manager']\n",
      "Cluster 3: ['Data Scientist']\n",
      "Cluster 4: ['Data Analyst']\n",
      "Cluster 5: ['Software Developer']\n"
     ]
    }
   ],
   "source": [
    "\n",
    "def greedy_clustering(titles, threshold=0.5):\n",
    "    clusters = []\n",
    "    similarity_matrix = calculate_cosine_similarity(titles)\n",
    "\n",
    "    # Sort titles by popularity (number of occurrences)\n",
    "    title_counts = pd.Series(titles).value_counts()\n",
    "    sorted_titles = title_counts.index.tolist()\n",
    "\n",
    "    for title in sorted_titles:\n",
    "        added_to_cluster = False\n",
    "\n",
    "        # Calculate average similarity with each existing cluster\n",
    "        for cluster in clusters:\n",
    "            cluster_similarity = similarity_matrix[[titles.index(title)]][:, [titles.index(c) for c in cluster]].mean()\n",
    "            if cluster_similarity >= threshold:\n",
    "                cluster.append(title)\n",
    "                added_to_cluster = True\n",
    "                break\n",
    "\n",
    "        # If not similar enough to any existing cluster, create a new cluster\n",
    "        if not added_to_cluster:\n",
    "            clusters.append([title])\n",
    "\n",
    "    return clusters\n",
    "\n",
    "# Example usage\n",
    "clusters = greedy_clustering(linkedin_connections, threshold=0.4)\n",
    "for i, cluster in enumerate(clusters):\n",
    "    print(f\"Cluster {i + 1}: {cluster}\")\n"
   ]
  },
  {
   "cell_type": "code",
   "execution_count": null,
   "id": "0f4e3cc4",
   "metadata": {},
   "outputs": [],
   "source": []
  }
 ],
 "metadata": {
  "kernelspec": {
   "display_name": "Python 3 (ipykernel)",
   "language": "python",
   "name": "python3"
  },
  "language_info": {
   "codemirror_mode": {
    "name": "ipython",
    "version": 3
   },
   "file_extension": ".py",
   "mimetype": "text/x-python",
   "name": "python",
   "nbconvert_exporter": "python",
   "pygments_lexer": "ipython3",
   "version": "3.9.13"
  }
 },
 "nbformat": 4,
 "nbformat_minor": 5
}
